{
 "cells": [
  {
   "cell_type": "markdown",
   "id": "3e89ef79",
   "metadata": {},
   "source": [
    "# Q1  # 1. In the below elements which of them are values or an expression? eg:- values can be\n",
    "integer or string and expressions will be mathematical operators.\n",
    "1. * = expressions\n",
    "2. hello = values\n",
    "3. -87.8 = values\n",
    "4. - = expressions\n",
    "5. / = expressions\n",
    "6. + = expressions\n",
    "7. 6 = values"
   ]
  },
  {
   "cell_type": "markdown",
   "id": "64399731",
   "metadata": {},
   "source": [
    "# Q2# What is the difference between string and variable?"
   ]
  },
  {
   "cell_type": "markdown",
   "id": "177c223f",
   "metadata": {},
   "source": [
    "A string is a type of variable. Variables can be of several types like integer, floating point, string, boolean.\n",
    "In the code example we have an integer, string and boolean. All of these are variables. String is just a type of variable. \n",
    "Python detects the type of variable automatically.\n",
    "A string is written between quotes (“)."
   ]
  },
  {
   "cell_type": "markdown",
   "id": "c681852e",
   "metadata": {},
   "source": [
    "# Q3 Describe three different data types."
   ]
  },
  {
   "cell_type": "markdown",
   "id": "830fbd3f",
   "metadata": {},
   "source": [
    "Python has the following data types built-in by default, in these categories:\n",
    "Integers, floating-point numbers, and strings.\n"
   ]
  },
  {
   "cell_type": "markdown",
   "id": "49b78b76",
   "metadata": {},
   "source": [
    "# Q4 What is an expression made up of? What do all expressions do?"
   ]
  },
  {
   "cell_type": "markdown",
   "id": "0464c989",
   "metadata": {},
   "source": [
    "In python, an expression is any legal combination of symbols (like a variable, constants, and operators) representing a value.\n",
    "An expression must have at least one operand (variable or constant) and have one or more operators.\n",
    "After evaluating an expression, we get a value."
   ]
  },
  {
   "cell_type": "markdown",
   "id": "58ec2775",
   "metadata": {},
   "source": [
    "# Q5This assignment statements, like spam = 10. What is the difference between an\n",
    "expression and a statement?"
   ]
  },
  {
   "cell_type": "code",
   "execution_count": null,
   "id": "7296894f",
   "metadata": {},
   "outputs": [],
   "source": [
    "Expressions only contain identifiers, literals and operators, where operators include arithmetic and boolean operators,\n",
    "the function call operator () the subscription operator [] and similar, and can be reduced to some kind of \"value\", \n",
    "which can be any Python object.\n",
    "\n",
    "Statements on the other hand are everything that can make up a line (or several lines) of Python code.\n",
    "Note that expressions are statements as well."
   ]
  },
  {
   "cell_type": "markdown",
   "id": "7c8e6a55",
   "metadata": {},
   "source": [
    "# Q6. After running the following code, what does the variable bacon contain?\n",
    "bacon = 22\n",
    "bacon + 1"
   ]
  },
  {
   "cell_type": "code",
   "execution_count": 9,
   "id": "17d7e1e6",
   "metadata": {},
   "outputs": [
    {
     "data": {
      "text/plain": [
       "23"
      ]
     },
     "execution_count": 9,
     "metadata": {},
     "output_type": "execute_result"
    }
   ],
   "source": [
    "bacon = 22\n",
    "bacon + 1"
   ]
  },
  {
   "cell_type": "markdown",
   "id": "293506ec",
   "metadata": {},
   "source": [
    "# Q7. What should the values of the following two terms be?\n",
    "spam + spamspam\n",
    "spam*3"
   ]
  },
  {
   "cell_type": "code",
   "execution_count": 4,
   "id": "b0a41837",
   "metadata": {},
   "outputs": [
    {
     "data": {
      "text/plain": [
       "'spamspamspam'"
      ]
     },
     "execution_count": 4,
     "metadata": {},
     "output_type": "execute_result"
    }
   ],
   "source": [
    "\"spam\" + \"spamspam\"\n",
    "\"spam\"*3                #Both expressions evaluate to the string 'spamspamspam'"
   ]
  },
  {
   "cell_type": "markdown",
   "id": "9dbfe1cc",
   "metadata": {},
   "source": [
    "# Q8. Why is eggs a valid variable name while 100 is invalid?"
   ]
  },
  {
   "cell_type": "code",
   "execution_count": null,
   "id": "5e3cfd11",
   "metadata": {},
   "outputs": [],
   "source": [
    "Variable names cannot begin with a number."
   ]
  },
  {
   "cell_type": "markdown",
   "id": "935661df",
   "metadata": {},
   "source": [
    "# Q9. What three functions can be used to get the integer, floating-point number, or string\n",
    "version of a value?"
   ]
  },
  {
   "cell_type": "code",
   "execution_count": null,
   "id": "9c2a15a6",
   "metadata": {},
   "outputs": [],
   "source": [
    "The int(), float(), and str() functions will evaluate to the integer, floating-point number, and \n",
    "string versions of the value passed to them."
   ]
  },
  {
   "cell_type": "markdown",
   "id": "30deb89c",
   "metadata": {},
   "source": [
    "# Q10. Why does this expression cause an error? How can you fix it?\n",
    "I have eaten  + 99 + burritos."
   ]
  },
  {
   "cell_type": "code",
   "execution_count": 10,
   "id": "a0377682",
   "metadata": {},
   "outputs": [
    {
     "ename": "SyntaxError",
     "evalue": "invalid syntax (1055636479.py, line 1)",
     "output_type": "error",
     "traceback": [
      "\u001b[1;36m  Input \u001b[1;32mIn [10]\u001b[1;36m\u001b[0m\n\u001b[1;33m    I have eaten  + 99 + burritos.\u001b[0m\n\u001b[1;37m      ^\u001b[0m\n\u001b[1;31mSyntaxError\u001b[0m\u001b[1;31m:\u001b[0m invalid syntax\n"
     ]
    }
   ],
   "source": [
    "I have eaten  + 99 + burritos."
   ]
  },
  {
   "cell_type": "code",
   "execution_count": null,
   "id": "beac2d06",
   "metadata": {},
   "outputs": [],
   "source": [
    "The expression causes an error because 99 is an integer, and only strings can be concatenated to other strings\n",
    "with the + operator. The correct way is I have eaten ' + str(99) + ' burritos.'."
   ]
  }
 ],
 "metadata": {
  "kernelspec": {
   "display_name": "Python 3 (ipykernel)",
   "language": "python",
   "name": "python3"
  },
  "language_info": {
   "codemirror_mode": {
    "name": "ipython",
    "version": 3
   },
   "file_extension": ".py",
   "mimetype": "text/x-python",
   "name": "python",
   "nbconvert_exporter": "python",
   "pygments_lexer": "ipython3",
   "version": "3.9.12"
  }
 },
 "nbformat": 4,
 "nbformat_minor": 5
}
